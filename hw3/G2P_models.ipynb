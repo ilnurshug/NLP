{
 "cells": [
  {
   "cell_type": "code",
   "execution_count": 1,
   "metadata": {
    "collapsed": false
   },
   "outputs": [],
   "source": [
    "import csv\n",
    "\n",
    "\n",
    "ids = []\n",
    "g = []\n",
    "p = []\n",
    "\n",
    "with open('train.csv', 'r') as csvfile:\n",
    "    reader = csv.reader(csvfile)\n",
    "    for row in reader:\n",
    "        ids.append(row[0])\n",
    "        \n",
    "        gs = []\n",
    "        for c in row[1].lower():\n",
    "            if c.isalpha() or c == \"'\":\n",
    "                gs.append(c)\n",
    "        \n",
    "        g.append(gs)\n",
    "        ph = row[2].split()\n",
    "        p.append(ph)\n",
    "        \n",
    "graphemes = g\n",
    "phonemes = p"
   ]
  },
  {
   "cell_type": "code",
   "execution_count": 188,
   "metadata": {
    "collapsed": false
   },
   "outputs": [],
   "source": [
    "with open('data', 'w') as out:\n",
    "    for i in range(1, len(ids)):\n",
    "        for j in range(len(g[i])):\n",
    "            if j > 0:\n",
    "                out.write(' ')\n",
    "            out.write(g[i][j])\n",
    "        out.write('\\t')\n",
    "        for j in range(len(p[i])):\n",
    "            if j > 0:\n",
    "                out.write(' ')\n",
    "            out.write(p[i][j])\n",
    "        out.write('\\n')"
   ]
  },
  {
   "cell_type": "code",
   "execution_count": 2,
   "metadata": {
    "collapsed": false
   },
   "outputs": [],
   "source": [
    "align_data = []\n",
    "words = []\n",
    "\n",
    "p_cls = set([])\n",
    "g_cls = set([])\n",
    "\n",
    "p_cls_cnt = {}\n",
    "p_total_cnt = 0\n",
    "\n",
    "def word_from_align(a):\n",
    "    w = \"\"\n",
    "    for chunk in a:\n",
    "        if len(chunk) > 1:\n",
    "            w += chunk[0] + chunk[-1]\n",
    "        else:\n",
    "            w += chunk\n",
    "    return w\n",
    "\n",
    "with open('data.m-mAlign.2-2.delX.1-best.conYX.align') as f:\n",
    "    align_data = f.readlines()\n",
    "    for i in range(len(align_data)):\n",
    "        align_data[i] = align_data[i].split('\\t')\n",
    "        align_data[i][0] = align_data[i][0].split('|')\n",
    "        align_data[i][1] = align_data[i][1].split('|')\n",
    "        align_data[i][0].remove('')\n",
    "        align_data[i][1].remove('\\n')\n",
    "        words.append(word_from_align(align_data[i][0]))\n",
    "        \n",
    "        for c in align_data[i][0]:\n",
    "            g_cls.add(c)\n",
    "        \n",
    "        for c in align_data[i][1]:\n",
    "            p_cls.add(c)"
   ]
  },
  {
   "cell_type": "code",
   "execution_count": 3,
   "metadata": {
    "collapsed": false
   },
   "outputs": [
    {
     "name": "stdout",
     "output_type": "stream",
     "text": [
      "[['k:n', 'o', 'x', 'v', 'i', 'l:l', 'e'], ['N', 'AA', 'K:S', 'V', 'IH', 'L', '_']] knoxville\n",
      "181 315\n"
     ]
    }
   ],
   "source": [
    "print (align_data[0], words[0])\n",
    "\n",
    "p_cls_id = {}\n",
    "g_cls_id = {}\n",
    "\n",
    "p_cls_id['~'] = 0\n",
    "i = 1\n",
    "for pc in p_cls:\n",
    "    p_cls_id[pc] = i\n",
    "    i += 1\n",
    "    \n",
    "g_cls_id['~'] = 0\n",
    "i = 1\n",
    "for gc in g_cls:\n",
    "    g_cls_id[gc] = i\n",
    "    i += 1\n",
    "    \n",
    "print (len(p_cls_id), len(g_cls_id))"
   ]
  },
  {
   "cell_type": "code",
   "execution_count": 4,
   "metadata": {
    "collapsed": false
   },
   "outputs": [],
   "source": [
    "X = []\n",
    "Y = []\n",
    "\n",
    "def left_ctx(a, i, ctx_len=2):\n",
    "    ctx = []\n",
    "    j = i-1\n",
    "    while j >= 0 and len(ctx) < ctx_len:\n",
    "        if len(a[j]) > 1:\n",
    "            if len(ctx) < ctx_len:\n",
    "                ctx.append(a[j][-1])\n",
    "            if len(ctx) < ctx_len:\n",
    "                ctx.append(a[j][0])\n",
    "        else:\n",
    "            ctx.append(a[j])\n",
    "        j -= 1\n",
    "    \n",
    "    while len(ctx) < ctx_len:\n",
    "        ctx.append('~')\n",
    "    \n",
    "    return ctx[::-1]\n",
    "\n",
    "def right_ctx(a, i, ctx_len=2):\n",
    "    ctx = []\n",
    "    j = i + 1\n",
    "    while j < len(a) and len(ctx) < ctx_len:\n",
    "        if len(a[j]) > 1:\n",
    "            if len(ctx) < ctx_len:\n",
    "                ctx.append(a[j][0])\n",
    "            if len(ctx) < ctx_len:\n",
    "                ctx.append(a[j][-1])\n",
    "        else:\n",
    "            ctx.append(a[j])\n",
    "        j += 1\n",
    "        \n",
    "    while len(ctx) < ctx_len:\n",
    "        ctx.append('~')\n",
    "    \n",
    "    return ctx\n",
    "\n",
    "def get_xy(a, w):\n",
    "    x = []\n",
    "    y = []\n",
    "    ri = 0\n",
    "    for i in range(len(a)):\n",
    "        if i == len(a) - 1 and len(a[i]) == 1:\n",
    "            break\n",
    "        l = []\n",
    "        if len(a[i]) > 1:\n",
    "            l = left_ctx(a, i) + [a[i][0], a[i][-1]] + right_ctx(a, i)\n",
    "            \n",
    "            ll = [c for c in l[1::]]\n",
    "            if ri+4 < len(w):\n",
    "                ll.append(w[ri+4])\n",
    "            else:\n",
    "                ll.append('~')\n",
    "            ll = [ord(c) for c in ll]\n",
    "            \n",
    "            l = [ord(c) for c in l]\n",
    "            x.append( l )\n",
    "            y.append(1)\n",
    "            x.append( ll )\n",
    "            y.append(0)\n",
    "        else:\n",
    "            if len(a[i+1]) == 1:\n",
    "                l = left_ctx(a, i) + [a[i], a[i+1]] + right_ctx(a, i+1)\n",
    "            else:\n",
    "                l = left_ctx(a, i) + [a[i], a[i+1][0], a[i+1][-1]] + right_ctx(a, i+1, 1)\n",
    "            y.append(0)\n",
    "            l = [ord(c) for c in l]\n",
    "            x.append( l )\n",
    "            \n",
    "        ri += min(len(a[i]), 2)\n",
    "        \n",
    "    return (x, y)\n",
    "\n",
    "for k in range(len(align_data)):\n",
    "    xa, ya = get_xy(align_data[k][0], words[k])\n",
    "    for x,y in zip(xa, ya):\n",
    "        X.append(x)\n",
    "        Y.append(y)"
   ]
  },
  {
   "cell_type": "code",
   "execution_count": 72,
   "metadata": {
    "collapsed": false
   },
   "outputs": [
    {
     "name": "stdout",
     "output_type": "stream",
     "text": [
      "['~', '~', 'k', 'n', 'o', 'x'] 1\n",
      "['~', 'k', 'n', 'o', 'x', 'v'] 0\n",
      "['k', 'n', 'o', 'x', 'v', 'i'] 0\n",
      "['n', 'o', 'x', 'v', 'i', 'l'] 0\n",
      "['o', 'x', 'v', 'i', 'l', 'l'] 0\n",
      "['x', 'v', 'i', 'l', 'l', 'e'] 0\n",
      "['v', 'i', 'l', 'l', 'e', '~'] 1\n",
      "['i', 'l', 'l', 'e', '~', '~'] 0\n",
      "['~', '~', 'm', 'o', 'v', 'i'] 0\n",
      "['~', 'm', 'o', 'v', 'i', 'e'] 0\n",
      "['m', 'o', 'v', 'i', 'e', 'g'] 0\n",
      "['o', 'v', 'i', 'e', 'g', 'o'] 1\n",
      "['v', 'i', 'e', 'g', 'o', 'i'] 0\n",
      "['i', 'e', 'g', 'o', 'i', 'n'] 0\n",
      "['e', 'g', 'o', 'i', 'n', 'g'] 0\n",
      "['g', 'o', 'i', 'n', 'g', '~'] 0\n",
      "['o', 'i', 'n', 'g', '~', '~'] 1\n",
      "['i', 'n', 'g', '~', '~', '~'] 0\n",
      "['~', '~', 'p', 'h', 'o', 't'] 1\n",
      "['~', 'p', 'h', 'o', 't', 'o'] 0\n"
     ]
    }
   ],
   "source": [
    "for i in range(20):\n",
    "    print ([chr(c) for c in X[i]], Y[i])"
   ]
  },
  {
   "cell_type": "code",
   "execution_count": 5,
   "metadata": {
    "collapsed": false
   },
   "outputs": [],
   "source": [
    "from sklearn.ensemble import RandomForestClassifier\n",
    "\n",
    "\n",
    "clf = RandomForestClassifier(n_estimators=10)\n",
    "clf = clf.fit(X, Y)"
   ]
  },
  {
   "cell_type": "code",
   "execution_count": 6,
   "metadata": {
    "collapsed": false
   },
   "outputs": [],
   "source": [
    "def word_to_window(w, focus, l_ctx_len=2, r_ctx_len=2):\n",
    "    lctx = []\n",
    "    rctx = []\n",
    "    j = focus - 1\n",
    "    while j >= 0 and len(lctx) < l_ctx_len:\n",
    "        lctx.append(w[j])\n",
    "        j -= 1\n",
    "    while len(lctx) < l_ctx_len:\n",
    "        lctx.append('~')\n",
    "    j = focus + 2\n",
    "    while j < len(w) and len(rctx) < r_ctx_len:\n",
    "        rctx.append(w[j])\n",
    "        j += 1\n",
    "    while len(rctx) < r_ctx_len:\n",
    "        rctx.append('~')\n",
    "    l = lctx[::-1] + [w[focus], w[focus+1]] + rctx\n",
    "    l = [ord(c) for c in l]\n",
    "    return l"
   ]
  },
  {
   "cell_type": "code",
   "execution_count": 7,
   "metadata": {
    "collapsed": false
   },
   "outputs": [],
   "source": [
    "def letter_chunking(w):\n",
    "    f = []\n",
    "    for focus in range(len(w)-1):\n",
    "        window = word_to_window(w, focus)\n",
    "        f.append(clf.predict([window]))\n",
    "    f.append(0)\n",
    "    for i in range(1, len(w)):\n",
    "        if f[i] == 1 and f[i-1] == 1:\n",
    "            f[i] = 0\n",
    "    chunks = []\n",
    "    i = 0\n",
    "    while i < len(w):\n",
    "        if f[i] == 1:\n",
    "            chunks.append([w[i], w[i+1]])\n",
    "            i += 2\n",
    "        else:\n",
    "            chunks.append([w[i]])\n",
    "            i += 1\n",
    "    return chunks"
   ]
  },
  {
   "cell_type": "code",
   "execution_count": 8,
   "metadata": {
    "collapsed": false
   },
   "outputs": [
    {
     "name": "stdout",
     "output_type": "stream",
     "text": [
      "[['t', 'h'], ['r'], ['e', 'e'], ['m'], ['o'], ['n'], ['t', 'h']]\n"
     ]
    }
   ],
   "source": [
    "print (letter_chunking(\"THREEMONTH\".lower()))"
   ]
  },
  {
   "cell_type": "code",
   "execution_count": 199,
   "metadata": {
    "collapsed": false
   },
   "outputs": [],
   "source": [
    "XX = []\n",
    "YY = []\n",
    "\n",
    "def get_xy2(g, p):\n",
    "    x = []\n",
    "    y = []\n",
    "    for i in range(len(g)):\n",
    "        l_ctx = []\n",
    "        r_ctx = []\n",
    "        j = i - 1\n",
    "        while j >= 0 and len(l_ctx) < 4:\n",
    "            l_ctx.append(g_cls_id[g[j]])\n",
    "            l_ctx.append(p_cls_id[p[j]])\n",
    "        while len(l_ctx) < 4:\n",
    "            l_ctx.append(g_cls_id['~'])\n",
    "            l_ctx.append(p_cls_id['_'])\n",
    "            \n",
    "        if i < len(g) - 1:\n",
    "            r_ctx.append(g_cls_id[g[i+1]])\n",
    "        else:\n",
    "            r_ctx.append(g_cls_id['~'])\n",
    "            \n",
    "        window = l_ctx[::-1] + [g_cls_id[g[i]]] + r_ctx\n",
    "        x.append(window)\n",
    "        y.append(p_cls_id[p[i]])\n",
    "        \n",
    "    return (x, y)\n",
    "\n",
    "for k in range(len(align_data)):\n",
    "    xs, ys = get_xy2(align_data[k][0], align_data[k][1])\n",
    "    for x, y in zip(xs, ys):\n",
    "        XX.append(x)\n",
    "        YY.append(y)"
   ]
  },
  {
   "cell_type": "code",
   "execution_count": 200,
   "metadata": {
    "collapsed": false
   },
   "outputs": [],
   "source": [
    "clf2 = RandomForestClassifier(n_estimators=10)\n",
    "clf2 = clf2.fit(XX, YY)"
   ]
  },
  {
   "cell_type": "code",
   "execution_count": 8,
   "metadata": {
    "collapsed": false
   },
   "outputs": [
    {
     "name": "stdout",
     "output_type": "stream",
     "text": [
      "205 k\n",
      "['N', 'AA', 'K', 'S', 'V', 'IH', 'L'] ['k', 'n', 'o', 'x', 'v', 'i', 'l', 'l', 'e']\n"
     ]
    }
   ],
   "source": [
    "g_from_cls = {}\n",
    "p_from_cls = {}\n",
    "\n",
    "for gr in g_cls_id:\n",
    "    g_from_cls[g_cls_id[gr]] = gr\n",
    "    \n",
    "for ph in p_cls_id:\n",
    "    p_from_cls[p_cls_id[ph]] = ph\n",
    "    \n",
    "print (g_cls_id['k'], g_from_cls[g_cls_id['k']])\n",
    "print (phonemes[1], graphemes[1])"
   ]
  },
  {
   "cell_type": "code",
   "execution_count": 202,
   "metadata": {
    "collapsed": true
   },
   "outputs": [],
   "source": [
    "def g2p(g):\n",
    "    ch = letter_chunking(g.lower())\n",
    "    g = []\n",
    "    for c in ch:\n",
    "        if len(c) > 1:\n",
    "            g.append(c[0] + ':' + c[1])\n",
    "        else:\n",
    "            g.append(c[0])\n",
    "    \n",
    "    p = []\n",
    "    for i in range(len(g)):\n",
    "        l_ctx = []\n",
    "        r_ctx = []\n",
    "        j = i - 1\n",
    "        while j >= 0 and len(l_ctx) < 4:\n",
    "            l_ctx.append(g_cls_id.get(g[j], 0))\n",
    "            l_ctx.append(p_cls_id[p[j]])\n",
    "        while len(l_ctx) < 4:\n",
    "            l_ctx.append(g_cls_id['~'])\n",
    "            l_ctx.append(p_cls_id['_'])\n",
    "            \n",
    "        if i < len(g) - 1:\n",
    "            r_ctx.append(g_cls_id.get(g[i+1], 0))\n",
    "        else:\n",
    "            r_ctx.append(g_cls_id['~'])\n",
    "            \n",
    "        window = l_ctx[::-1] + [g_cls_id.get(g[i], 0)] + r_ctx\n",
    "        pp = p_from_cls[clf2.predict([window])[0]]\n",
    "        p.append(pp)\n",
    "        \n",
    "    return p  "
   ]
  },
  {
   "cell_type": "code",
   "execution_count": 203,
   "metadata": {
    "collapsed": false
   },
   "outputs": [
    {
     "name": "stdout",
     "output_type": "stream",
     "text": [
      "['N', 'AA', 'K:S', 'V', 'IH', 'L', '_']\n"
     ]
    }
   ],
   "source": [
    "print (g2p('knoxville'))"
   ]
  },
  {
   "cell_type": "code",
   "execution_count": 9,
   "metadata": {
    "collapsed": false
   },
   "outputs": [],
   "source": [
    "p_to_ch = {}\n",
    "\n",
    "with open('phones.txt') as p_dct:\n",
    "    lines = p_dct.readlines()\n",
    "    for l in lines:\n",
    "        ph, ch = l.split()\n",
    "        p_to_ch[ph] = ch"
   ]
  },
  {
   "cell_type": "code",
   "execution_count": 10,
   "metadata": {
    "collapsed": true
   },
   "outputs": [],
   "source": [
    "def transform(ps):\n",
    "    s = \"\"\n",
    "    for ph in ps:\n",
    "        if ':' in ph:\n",
    "            a,b = ph.split(':')\n",
    "            s += p_to_ch[a] + p_to_ch[b]\n",
    "        elif ph == '_':\n",
    "            continue\n",
    "        else:\n",
    "            s += p_to_ch[ph]\n",
    "            \n",
    "    return s"
   ]
  },
  {
   "cell_type": "code",
   "execution_count": 206,
   "metadata": {
    "collapsed": false
   },
   "outputs": [
    {
     "name": "stdout",
     "output_type": "stream",
     "text": [
      "watCIqu\n"
     ]
    }
   ],
   "source": [
    "print(transform(g2p('knoxville')))"
   ]
  },
  {
   "cell_type": "code",
   "execution_count": 11,
   "metadata": {
    "collapsed": false
   },
   "outputs": [],
   "source": [
    "def test_g2p_model(g2p_model):\n",
    "    test_words = []\n",
    "    test_ids = []\n",
    "\n",
    "    with open('test.csv', 'r') as csvfile:\n",
    "        reader = csv.reader(csvfile)\n",
    "        for row in reader:\n",
    "            test_ids.append(row[0])\n",
    "            tw = \"\"\n",
    "            for c in row[1].lower():\n",
    "                if c.isalpha() or c == \"'\":\n",
    "                    tw += c\n",
    "            test_words.append(tw)\n",
    "            \n",
    "    with open('out.csv', 'w+') as out:\n",
    "        out.write('Id,Transcription\\n')\n",
    "        for i in range(1, len(test_ids)):\n",
    "            try:\n",
    "                out.write(test_ids[i] + ',' + transform(g2p_model(test_words[i])) + '\\n')\n",
    "            except KeyError:\n",
    "                print (test_words[i])"
   ]
  },
  {
   "cell_type": "code",
   "execution_count": 12,
   "metadata": {
    "collapsed": true
   },
   "outputs": [],
   "source": [
    "from nltk.probability import FreqDist\n",
    "from nltk import bigrams\n",
    "from nltk.probability import SimpleGoodTuringProbDist\n",
    "\n",
    "\n",
    "p_fd = FreqDist()\n",
    "for k in range(len(align_data)):\n",
    "    p_fd.update(bigrams(align_data[k][1]))\n",
    "    \n",
    "p_lm = SimpleGoodTuringProbDist(p_fd)"
   ]
  },
  {
   "cell_type": "code",
   "execution_count": 212,
   "metadata": {
    "collapsed": true
   },
   "outputs": [],
   "source": [
    "XX3 = []\n",
    "YY3 = []\n",
    "\n",
    "def get_xy3(g, p):\n",
    "    x = []\n",
    "    y = []\n",
    "    for i in range(len(g)):\n",
    "        l_ctx = []\n",
    "        r_ctx = []\n",
    "        j = i - 1\n",
    "        while j >= 0 and len(l_ctx) < 2:\n",
    "            l_ctx.append(g_cls_id[g[j]])\n",
    "        while len(l_ctx) < 2:\n",
    "            l_ctx.append(g_cls_id['~'])\n",
    "            \n",
    "        if i < len(g) - 1:\n",
    "            r_ctx.append(g_cls_id[g[i+1]])\n",
    "        else:\n",
    "            r_ctx.append(g_cls_id['~'])\n",
    "            \n",
    "        window = l_ctx[::-1] + [g_cls_id[g[i]]] + r_ctx\n",
    "        x.append(window)\n",
    "        y.append(p_cls_id[p[i]])\n",
    "        \n",
    "    return (x, y)\n",
    "\n",
    "for k in range(len(align_data)):\n",
    "    xs, ys = get_xy3(align_data[k][0], align_data[k][1])\n",
    "    for x, y in zip(xs, ys):\n",
    "        XX3.append(x)\n",
    "        YY3.append(y)"
   ]
  },
  {
   "cell_type": "code",
   "execution_count": 213,
   "metadata": {
    "collapsed": true
   },
   "outputs": [],
   "source": [
    "clf3 = RandomForestClassifier(n_estimators=10)\n",
    "clf3 = clf3.fit(XX3, YY3)"
   ]
  },
  {
   "cell_type": "code",
   "execution_count": 13,
   "metadata": {
    "collapsed": false
   },
   "outputs": [],
   "source": [
    "def Viterbi(cs, simple_transition=False):\n",
    "    l = []\n",
    "    \n",
    "    for i in range(len(cs)):\n",
    "        l.append([0] * len(cs[i]))\n",
    "        \n",
    "    for i in range(len(l[0])):\n",
    "        l[0][i] = (-1, cs[0][i][1])\n",
    "        \n",
    "    for k in range(1,len(cs)):\n",
    "        for i in range(len(cs[k])):\n",
    "            emission = float(cs[k][i][1])\n",
    "            mx = 239\n",
    "            for j in range(len(cs[k-1])):\n",
    "                prev = float(l[k-1][j][1])\n",
    "                \n",
    "                transition = 0.0\n",
    "                if not simple_transition:\n",
    "                    transition = float((p_lm.prob( (cs[k-1][j][0], cs[k][i][0]) )))\n",
    "                else:\n",
    "                    if p_fd[(cs[k-1][j][0], cs[k][i][0])] > 0:\n",
    "                        transition = 1.0\n",
    "                \n",
    "                tmp = prev * transition * emission\n",
    "                if tmp > mx or mx == 239:\n",
    "                    mx = tmp\n",
    "                    l[k][i] = (j, tmp)\n",
    "                    \n",
    "    mx = l[-1][0][1]\n",
    "    mx_i = 0\n",
    "    for i in range(len(l[-1])):\n",
    "        if l[-1][i][1] > mx:\n",
    "            mx = l[-1][i][1]\n",
    "            mx_i = i\n",
    "    \n",
    "    seq = []    \n",
    "    k = len(l) - 1\n",
    "    while k >= 0:\n",
    "        seq.append(cs[k][mx_i][0])\n",
    "        mx_i = l[k][mx_i][0]\n",
    "        k -= 1\n",
    "        \n",
    "    #for i in range(len(l)):\n",
    "    #    print(l[i])\n",
    "        \n",
    "    return seq[::-1]"
   ]
  },
  {
   "cell_type": "code",
   "execution_count": null,
   "metadata": {
    "collapsed": true
   },
   "outputs": [],
   "source": [
    "def g2p_2(g):\n",
    "    ch = letter_chunking(g.lower())\n",
    "    g = []\n",
    "    for c in ch:\n",
    "        if len(c) > 1:\n",
    "            g.append(c[0] + ':' + c[1])\n",
    "        else:\n",
    "            g.append(c[0])\n",
    "    \n",
    "    candidates = []\n",
    "    for i in range(len(g)):\n",
    "        l_ctx = []\n",
    "        r_ctx = []\n",
    "        j = i - 1\n",
    "        while j >= 0 and len(l_ctx) < 2:\n",
    "            l_ctx.append(g_cls_id.get(g[j], 0))\n",
    "        while len(l_ctx) < 2:\n",
    "            l_ctx.append(g_cls_id['~'])\n",
    "            \n",
    "        if i < len(g) - 1:\n",
    "            r_ctx.append(g_cls_id.get(g[i+1], 0))\n",
    "        else:\n",
    "            r_ctx.append(g_cls_id['~'])\n",
    "            \n",
    "        window = l_ctx[::-1] + [g_cls_id.get(g[i], 0)] + r_ctx\n",
    "        \n",
    "        probs = clf3.predict_proba([window])[0]\n",
    "        probs_s = []\n",
    "        for i in range(len(probs)):\n",
    "            if probs[i] > 0:\n",
    "                probs_s.append((p_from_cls[i], (probs[i])))\n",
    "                               \n",
    "        candidates.append(probs_s)\n",
    "        \n",
    "    return Viterbi(np.array(candidates))  "
   ]
  },
  {
   "cell_type": "code",
   "execution_count": 254,
   "metadata": {
    "collapsed": false
   },
   "outputs": [
    {
     "name": "stdout",
     "output_type": "stream",
     "text": [
      "['HH', 'AA', 'M', '_'] ['HH', 'OW', 'M', '_']\n",
      "['IY', 'Z', 'IY'] ['IY', 'Z', 'IY']\n"
     ]
    }
   ],
   "source": [
    "print(g2p_2('home'), g2p('home'))\n",
    "print(g2p_2('easy'), g2p('easy'))"
   ]
  },
  {
   "cell_type": "code",
   "execution_count": 39,
   "metadata": {
    "collapsed": false
   },
   "outputs": [],
   "source": [
    "def distance(a, b):\n",
    "    n, m = len(a), len(b)\n",
    "    if n > m:\n",
    "        a, b = b, a\n",
    "        n, m = m, n\n",
    "\n",
    "    current_row = range(n+1) \n",
    "    for i in range(1, m+1):\n",
    "        previous_row, current_row = current_row, [i]+[0]*n\n",
    "        for j in range(1,n+1):\n",
    "            add, delete, change = previous_row[j]+1, current_row[j-1]+1, previous_row[j-1]\n",
    "            if a[j-1] != b[i-1]:\n",
    "                change += 1\n",
    "            current_row[j] = min(add, delete, change)\n",
    "\n",
    "    return current_row[n]\n",
    "\n",
    "def test(g2p_model,l=1000):\n",
    "    sum_dist = 0\n",
    "    for i in range(1, l): #\n",
    "        y = transform(phonemes[i])\n",
    "        gs = \"\"\n",
    "        for c in graphemes[i]:\n",
    "            gs += c\n",
    "        y2 = transform(g2p_model(gs))\n",
    "        sum_dist += distance(y, y2)\n",
    "    \n",
    "    return float(sum_dist)/float(l)"
   ]
  },
  {
   "cell_type": "code",
   "execution_count": 251,
   "metadata": {
    "collapsed": false
   },
   "outputs": [
    {
     "name": "stdout",
     "output_type": "stream",
     "text": [
      "0.7968\n"
     ]
    }
   ],
   "source": [
    "print(test(g2p,5000))"
   ]
  },
  {
   "cell_type": "code",
   "execution_count": 252,
   "metadata": {
    "collapsed": false
   },
   "outputs": [
    {
     "name": "stdout",
     "output_type": "stream",
     "text": [
      "0.9964\n"
     ]
    }
   ],
   "source": [
    "print(test(g2p_2,5000))"
   ]
  },
  {
   "cell_type": "code",
   "execution_count": 15,
   "metadata": {
    "collapsed": false
   },
   "outputs": [
    {
     "name": "stdout",
     "output_type": "stream",
     "text": [
      "31\n"
     ]
    }
   ],
   "source": [
    "a_max_len = 0\n",
    "for i in range(len(align_data)):\n",
    "    a_max_len = max(a_max_len, len(align_data[i][0]))\n",
    "    a_max_len = max(a_max_len, len(align_data[i][1]))\n",
    "    \n",
    "print (a_max_len)"
   ]
  },
  {
   "cell_type": "code",
   "execution_count": 16,
   "metadata": {
    "collapsed": true
   },
   "outputs": [],
   "source": [
    "import numpy as np\n",
    "\n",
    "def one_hot(seq, a_cls, cls_cnt, ignore=True):\n",
    "    vec = []\n",
    "    for s_i in seq:\n",
    "        v = []\n",
    "        for c in s_i:\n",
    "            vg = [0] * cls_cnt\n",
    "            if c == '~':\n",
    "                if not ignore:\n",
    "                    vg[a_cls[c]] = 1\n",
    "            else:\n",
    "                cls = a_cls.get(c, -1)\n",
    "                \n",
    "                if cls == -1:\n",
    "                    c = c[0]\n",
    "                    \n",
    "                vg[a_cls[c]] = 1\n",
    "            v.append(np.array(vg))\n",
    "        vec.append(np.array(v))\n",
    "    vec = np.array(vec)\n",
    "    return vec\n",
    "    \n",
    "\n",
    "def gen_data(max_len, begin,train_length, ignore=True):\n",
    "    gs = []\n",
    "    ps = []\n",
    "    \n",
    "    for i in range(begin, begin + train_length):\n",
    "        gs_i = align_data[i][0]\n",
    "        ps_i = align_data[i][1]\n",
    "        if len(gs_i) < max_len:\n",
    "            gs_i = gs_i + ['~'] * (max_len - len(gs_i))\n",
    "        if len(ps_i) < max_len:\n",
    "            ps_i = ps_i + ['~'] * (max_len - len(ps_i))\n",
    "        gs.append(gs_i)\n",
    "        ps.append(ps_i)\n",
    "        \n",
    "    return (one_hot(gs, g_cls_id, len(g_cls_id), ignore), one_hot(ps, p_cls_id, len(p_cls_id), ignore))   "
   ]
  },
  {
   "cell_type": "code",
   "execution_count": 17,
   "metadata": {
    "collapsed": false
   },
   "outputs": [],
   "source": [
    "X_train, Y_train = gen_data(a_max_len, 0, 20000, False) "
   ]
  },
  {
   "cell_type": "code",
   "execution_count": 18,
   "metadata": {
    "collapsed": false
   },
   "outputs": [
    {
     "name": "stdout",
     "output_type": "stream",
     "text": [
      "(20000, 31, 315) (20000, 31, 181)\n"
     ]
    }
   ],
   "source": [
    "print (X_train.shape, Y_train.shape)"
   ]
  },
  {
   "cell_type": "code",
   "execution_count": 19,
   "metadata": {
    "collapsed": false
   },
   "outputs": [
    {
     "name": "stderr",
     "output_type": "stream",
     "text": [
      "Using TensorFlow backend.\n"
     ]
    }
   ],
   "source": [
    "from keras.models import Sequential\n",
    "from keras.layers.core import Masking, Dense, Merge, TimeDistributedDense, Activation, RepeatVector\n",
    "from keras.layers.recurrent import LSTM\n",
    "from keras.layers.wrappers import TimeDistributed\n",
    "from keras.optimizers import RMSprop\n",
    "\n",
    "max_len = X_train.shape[1]\n",
    "n_feats = X_train.shape[2]\n",
    "n_outs = Y_train.shape[2] \n",
    "n_hidden = 128 # 32"
   ]
  },
  {
   "cell_type": "code",
   "execution_count": 20,
   "metadata": {
    "collapsed": true
   },
   "outputs": [],
   "source": [
    "model = Sequential([\n",
    "    LSTM(512, return_sequences=True, input_shape=(max_len, n_feats)),\n",
    "    LSTM(32, return_sequences=True),\n",
    "    LSTM(32, return_sequences=True),\n",
    "    TimeDistributed(Dense(n_outs, activation='softmax'))\n",
    "])\n",
    "optimizer = RMSprop(lr=0.001, decay=1e-6)\n",
    "model.compile(optimizer=optimizer, loss='categorical_crossentropy', metrics=['categorical_accuracy'])"
   ]
  },
  {
   "cell_type": "code",
   "execution_count": 37,
   "metadata": {
    "collapsed": false
   },
   "outputs": [],
   "source": [
    "model2 = Sequential([\n",
    "    LSTM(n_hidden, return_sequences=True, input_length=max_len, input_shape=(max_len, n_feats)),\n",
    "    LSTM(n_hidden, return_sequences=True),\n",
    "    LSTM(n_hidden, return_sequences=False),\n",
    "    Dense(n_hidden, activation='relu'),\n",
    " \n",
    "    RepeatVector(max_len),\n",
    "    LSTM(n_hidden, input_length=max_len, return_sequences=True),\n",
    "    TimeDistributed(Dense(n_outs, activation='softmax'))\n",
    "])\n",
    "optimizer = RMSprop(lr=0.001, decay=1e-6)\n",
    "model2.compile(optimizer=optimizer, loss='categorical_crossentropy', metrics=['categorical_accuracy'])"
   ]
  },
  {
   "cell_type": "code",
   "execution_count": 21,
   "metadata": {
    "collapsed": false
   },
   "outputs": [
    {
     "name": "stdout",
     "output_type": "stream",
     "text": [
      "Epoch 1/25\n",
      "20000/20000 [==============================] - 351s - loss: 1.2627 - categorical_accuracy: 0.7846   \n",
      "Epoch 2/25\n",
      "20000/20000 [==============================] - 353s - loss: 0.8194 - categorical_accuracy: 0.7980   \n",
      "Epoch 3/25\n",
      "20000/20000 [==============================] - 363s - loss: 0.7256 - categorical_accuracy: 0.8110   \n",
      "Epoch 4/25\n",
      "20000/20000 [==============================] - 365s - loss: 0.4687 - categorical_accuracy: 0.8902   \n",
      "Epoch 5/25\n",
      "20000/20000 [==============================] - 366s - loss: 0.2366 - categorical_accuracy: 0.9424   \n",
      "Epoch 6/25\n",
      "20000/20000 [==============================] - 355s - loss: 0.1589 - categorical_accuracy: 0.9552   \n",
      "Epoch 7/25\n",
      "20000/20000 [==============================] - 338s - loss: 0.1348 - categorical_accuracy: 0.9588   \n",
      "Epoch 8/25\n",
      "20000/20000 [==============================] - 325s - loss: 0.1235 - categorical_accuracy: 0.9604   \n",
      "Epoch 9/25\n",
      "20000/20000 [==============================] - 328s - loss: 0.1164 - categorical_accuracy: 0.9617   \n",
      "Epoch 10/25\n",
      "20000/20000 [==============================] - 331s - loss: 0.1112 - categorical_accuracy: 0.9627   \n",
      "Epoch 11/25\n",
      "20000/20000 [==============================] - 329s - loss: 0.1068 - categorical_accuracy: 0.9640   \n",
      "Epoch 12/25\n",
      "20000/20000 [==============================] - 329s - loss: 0.1030 - categorical_accuracy: 0.9652   \n",
      "Epoch 13/25\n",
      "20000/20000 [==============================] - 327s - loss: 0.0991 - categorical_accuracy: 0.9665   \n",
      "Epoch 14/25\n",
      "20000/20000 [==============================] - 330s - loss: 0.0958 - categorical_accuracy: 0.9674   \n",
      "Epoch 15/25\n",
      "20000/20000 [==============================] - 329s - loss: 0.0922 - categorical_accuracy: 0.9687   \n",
      "Epoch 16/25\n",
      "20000/20000 [==============================] - 328s - loss: 0.0891 - categorical_accuracy: 0.9697   \n",
      "Epoch 17/25\n",
      "20000/20000 [==============================] - 328s - loss: 0.0864 - categorical_accuracy: 0.9707   \n",
      "Epoch 18/25\n",
      "20000/20000 [==============================] - 328s - loss: 0.0837 - categorical_accuracy: 0.9716   \n",
      "Epoch 19/25\n",
      "20000/20000 [==============================] - 329s - loss: 0.0810 - categorical_accuracy: 0.9725   \n",
      "Epoch 20/25\n",
      "20000/20000 [==============================] - 328s - loss: 0.0787 - categorical_accuracy: 0.9733   \n",
      "Epoch 21/25\n",
      "20000/20000 [==============================] - 328s - loss: 0.0765 - categorical_accuracy: 0.9741   \n",
      "Epoch 22/25\n",
      "20000/20000 [==============================] - 328s - loss: 0.0747 - categorical_accuracy: 0.9746   \n",
      "Epoch 23/25\n",
      "20000/20000 [==============================] - 327s - loss: 0.0728 - categorical_accuracy: 0.9752   \n",
      "Epoch 24/25\n",
      "20000/20000 [==============================] - 329s - loss: 0.0712 - categorical_accuracy: 0.9757   \n",
      "Epoch 25/25\n",
      "20000/20000 [==============================] - 327s - loss: 0.0697 - categorical_accuracy: 0.9760   \n"
     ]
    }
   ],
   "source": [
    "hist = model.fit(X_train, Y_train, batch_size=80, nb_epoch=25)"
   ]
  },
  {
   "cell_type": "code",
   "execution_count": 31,
   "metadata": {
    "collapsed": false
   },
   "outputs": [],
   "source": [
    "X_train2, Y_train2 = None, None\n",
    "X_train2, Y_train2 = gen_data(a_max_len, 40000, 20000, False)"
   ]
  },
  {
   "cell_type": "code",
   "execution_count": 32,
   "metadata": {
    "collapsed": false
   },
   "outputs": [
    {
     "name": "stdout",
     "output_type": "stream",
     "text": [
      "Epoch 1/25\n",
      "20000/20000 [==============================] - 366s - loss: 0.1086 - categorical_accuracy: 0.9630   \n",
      "Epoch 2/25\n",
      "20000/20000 [==============================] - 352s - loss: 0.0934 - categorical_accuracy: 0.9672   \n",
      "Epoch 3/25\n",
      "20000/20000 [==============================] - 355s - loss: 0.0855 - categorical_accuracy: 0.9700   \n",
      "Epoch 4/25\n",
      "20000/20000 [==============================] - 374s - loss: 0.0797 - categorical_accuracy: 0.9722   \n",
      "Epoch 5/25\n",
      "20000/20000 [==============================] - 303s - loss: 0.0752 - categorical_accuracy: 0.9740   \n",
      "Epoch 6/25\n",
      "20000/20000 [==============================] - 307s - loss: 0.0716 - categorical_accuracy: 0.9752   \n",
      "Epoch 7/25\n",
      "20000/20000 [==============================] - 349s - loss: 0.0689 - categorical_accuracy: 0.9762   \n",
      "Epoch 8/25\n",
      "20000/20000 [==============================] - 472s - loss: 0.0666 - categorical_accuracy: 0.9769   \n",
      "Epoch 9/25\n",
      "20000/20000 [==============================] - 367s - loss: 0.0649 - categorical_accuracy: 0.9775   \n",
      "Epoch 10/25\n",
      "20000/20000 [==============================] - 346s - loss: 0.0634 - categorical_accuracy: 0.9779   \n",
      "Epoch 11/25\n",
      "20000/20000 [==============================] - 396s - loss: 0.0620 - categorical_accuracy: 0.9783   \n",
      "Epoch 12/25\n",
      "20000/20000 [==============================] - 409s - loss: 0.0609 - categorical_accuracy: 0.9785   \n",
      "Epoch 13/25\n",
      "20000/20000 [==============================] - 331s - loss: 0.0599 - categorical_accuracy: 0.9789   \n",
      "Epoch 14/25\n",
      "20000/20000 [==============================] - 327s - loss: 0.0591 - categorical_accuracy: 0.9790   \n",
      "Epoch 15/25\n",
      "20000/20000 [==============================] - 329s - loss: 0.0583 - categorical_accuracy: 0.9793   \n",
      "Epoch 16/25\n",
      "20000/20000 [==============================] - 316s - loss: 0.0577 - categorical_accuracy: 0.9795   \n",
      "Epoch 17/25\n",
      "20000/20000 [==============================] - 311s - loss: 0.0571 - categorical_accuracy: 0.9796   \n",
      "Epoch 18/25\n",
      "20000/20000 [==============================] - 384s - loss: 0.0566 - categorical_accuracy: 0.9797   \n",
      "Epoch 19/25\n",
      "20000/20000 [==============================] - 394s - loss: 0.0561 - categorical_accuracy: 0.9798   \n",
      "Epoch 20/25\n",
      "20000/20000 [==============================] - 377s - loss: 0.0557 - categorical_accuracy: 0.9799   \n",
      "Epoch 21/25\n",
      "20000/20000 [==============================] - 398s - loss: 0.0553 - categorical_accuracy: 0.9800   \n",
      "Epoch 22/25\n",
      "20000/20000 [==============================] - 443s - loss: 0.0549 - categorical_accuracy: 0.9801   \n",
      "Epoch 23/25\n",
      "20000/20000 [==============================] - 465s - loss: 0.0546 - categorical_accuracy: 0.9800   \n",
      "Epoch 24/25\n",
      "20000/20000 [==============================] - 328s - loss: 0.0542 - categorical_accuracy: 0.9801   \n",
      "Epoch 25/25\n",
      "20000/20000 [==============================] - 405s - loss: 0.0539 - categorical_accuracy: 0.9803   \n"
     ]
    }
   ],
   "source": [
    "hist = model.fit(X_train2, Y_train2, batch_size=80, nb_epoch=25)"
   ]
  },
  {
   "cell_type": "code",
   "execution_count": 42,
   "metadata": {
    "collapsed": true
   },
   "outputs": [],
   "source": [
    "def word2vec(w, max_len, a_cls, alpha_len, ignore):\n",
    "    w = [c for c in w]\n",
    "    if len(w) < max_len:\n",
    "        w = w + ['~'] * (max_len - len(w))\n",
    "    return one_hot([w], a_cls, alpha_len, ignore)\n",
    "\n",
    "def g2vec(w, max_len, ignore):\n",
    "    return word2vec(w, max_len, g_cls_id, len(g_cls_id),ignore)\n",
    "\n",
    "def p2vec(w, max_len, ignore):\n",
    "    return word2vec(w, max_len, p_cls_id, len(p_cls_id),ignore)\n",
    "\n",
    "def build_candidates(probs):\n",
    "    pis = []\n",
    "    for plst in probs:\n",
    "        pi = []\n",
    "        i = 0\n",
    "        for p in plst:\n",
    "            pi.append((p_from_cls[i], p))\n",
    "            i += 1\n",
    "        pi = sorted(pi, key=lambda x: -x[1])\n",
    "        pis.append(pi[:1])\n",
    "    return pis"
   ]
  },
  {
   "cell_type": "code",
   "execution_count": 24,
   "metadata": {
    "collapsed": true
   },
   "outputs": [],
   "source": [
    "def g2p_rnn(w, simple_transition=False, viterbi=True, g2p_model=model, bidirect=False):\n",
    "    ch = letter_chunking(w.lower())\n",
    "    g = []\n",
    "    for c in ch:\n",
    "        if len(c) > 1:\n",
    "            g.append(c[0] + ':' + c[1])\n",
    "        else:\n",
    "            g.append(c[0])\n",
    "            \n",
    "    inp = g2vec(g, a_max_len, False)\n",
    "    ans = []\n",
    "    if not bidirect:\n",
    "        ans = g2p_model.predict(inp)\n",
    "    else:\n",
    "        ans = g2p_model.predict([inp, inp])\n",
    "    ps = []\n",
    "    if viterbi:\n",
    "        for ph in Viterbi(build_candidates(ans[0]), simple_transition):\n",
    "            if ph == '~':\n",
    "                break\n",
    "            elif ph == '_':\n",
    "                continue\n",
    "            ps.append(ph)\n",
    "    else:\n",
    "        for lst in ans[0]:\n",
    "            ch = p_from_cls[np.argmax(lst)]\n",
    "            if ch == '~':\n",
    "                break\n",
    "            elif ch == '_':\n",
    "                continue\n",
    "            ps.append(ch)\n",
    "            \n",
    "    return ps"
   ]
  },
  {
   "cell_type": "code",
   "execution_count": 44,
   "metadata": {
    "collapsed": false
   },
   "outputs": [],
   "source": [
    "test_g2p_model(g2p_rnn)"
   ]
  },
  {
   "cell_type": "code",
   "execution_count": 43,
   "metadata": {
    "collapsed": false
   },
   "outputs": [
    {
     "name": "stdout",
     "output_type": "stream",
     "text": [
      "['N', 'AA', 'K:S', 'V', 'IH', 'L']\n",
      "1.15\n"
     ]
    }
   ],
   "source": [
    "print(g2p_rnn('knoxville'))\n",
    "print (test(g2p_rnn, 100))"
   ]
  },
  {
   "cell_type": "code",
   "execution_count": 41,
   "metadata": {
    "collapsed": false
   },
   "outputs": [
    {
     "name": "stderr",
     "output_type": "stream",
     "text": [
      "/home/austud/anaconda3/lib/python3.5/site-packages/keras/layers/core.py:1112: UserWarning: TimeDistributedDense is deprecated, please use TimeDistributed(Dense(...)) instead.\n",
      "  warnings.warn('TimeDistributedDense is deprecated, '\n"
     ]
    }
   ],
   "source": [
    "def fork (model, n=2):\n",
    "    forks = []\n",
    "    for i in range(n):\n",
    "        f = Sequential()\n",
    "        f.add (model)\n",
    "        forks.append(f)\n",
    "    return forks\n",
    "\n",
    "left = Sequential()\n",
    "left.add(LSTM(output_dim=n_hidden, init='uniform', inner_init='uniform',\n",
    "              forget_bias_init='one', return_sequences=True, activation='tanh',\n",
    "              inner_activation='sigmoid', input_shape=(max_len, n_feats)))\n",
    "         \n",
    "right = Sequential()\n",
    "right.add(LSTM(output_dim=n_hidden, init='uniform', inner_init='uniform',\n",
    "               forget_bias_init='one', return_sequences=True, activation='tanh',\n",
    "               inner_activation='sigmoid', input_shape=(max_len, n_feats), go_backwards=True))\n",
    "\n",
    "model2 = Sequential()\n",
    "model2.add(Merge([left, right], mode='sum'))\n",
    "\n",
    "#Add second Bidirectional LSTM layer\n",
    "\n",
    "# left, right = fork(model2)\n",
    "\n",
    "# left.add(LSTM(output_dim=n_hidden, init='uniform', inner_init='uniform',\n",
    "#               forget_bias_init='one', return_sequences=True, activation='tanh',\n",
    "#               inner_activation='sigmoid'))\n",
    "\n",
    "# right.add(LSTM(output_dim=n_hidden, init='uniform', inner_init='uniform',\n",
    "#                forget_bias_init='one', return_sequences=True, activation='tanh',\n",
    "#                inner_activation='sigmoid',  go_backwards=True))\n",
    "\n",
    "\n",
    "# model2 = Sequential()\n",
    "# model2.add(Merge([left, right], mode='sum'))\n",
    "\n",
    "model2.add(TimeDistributedDense(n_outs))\n",
    "model2.add(Activation('softmax'))\n",
    "\n",
    "optimizer = RMSprop(lr=0.001, decay=1e-6)\n",
    "model2.compile(optimizer=optimizer, loss='categorical_crossentropy', metrics=['categorical_accuracy'])"
   ]
  },
  {
   "cell_type": "code",
   "execution_count": 46,
   "metadata": {
    "collapsed": true
   },
   "outputs": [],
   "source": [
    "def g2p_drnn(w):\n",
    "    return g2p_rnn(w, g2p_model=model2, bidirect=True)"
   ]
  },
  {
   "cell_type": "code",
   "execution_count": 47,
   "metadata": {
    "collapsed": false
   },
   "outputs": [
    {
     "name": "stdout",
     "output_type": "stream",
     "text": [
      "Epoch 1/20\n",
      "20000/20000 [==============================] - 578s - loss: 0.6808 - categorical_accuracy: 0.8663   \n",
      "Epoch 2/20\n",
      "20000/20000 [==============================] - 587s - loss: 0.1638 - categorical_accuracy: 0.9532   \n",
      "Epoch 3/20\n",
      "20000/20000 [==============================] - 589s - loss: 0.1254 - categorical_accuracy: 0.9579   \n",
      "Epoch 4/20\n",
      "20000/20000 [==============================] - 591s - loss: 0.1155 - categorical_accuracy: 0.9601   \n",
      "Epoch 5/20\n",
      "20000/20000 [==============================] - 591s - loss: 0.1092 - categorical_accuracy: 0.9617   \n",
      "Epoch 6/20\n",
      "20000/20000 [==============================] - 589s - loss: 0.1037 - categorical_accuracy: 0.9633   \n",
      "Epoch 7/20\n",
      "20000/20000 [==============================] - 593s - loss: 0.0986 - categorical_accuracy: 0.9649   \n",
      "Epoch 8/20\n",
      "20000/20000 [==============================] - 592s - loss: 0.0941 - categorical_accuracy: 0.9664   \n",
      "Epoch 9/20\n",
      "20000/20000 [==============================] - 592s - loss: 0.0896 - categorical_accuracy: 0.9680   \n",
      "Epoch 10/20\n",
      "20000/20000 [==============================] - 592s - loss: 0.0857 - categorical_accuracy: 0.9694   \n",
      "Epoch 11/20\n",
      "20000/20000 [==============================] - 590s - loss: 0.0820 - categorical_accuracy: 0.9707   \n",
      "Epoch 12/20\n",
      "20000/20000 [==============================] - 593s - loss: 0.0787 - categorical_accuracy: 0.9719   \n",
      "Epoch 13/20\n",
      "20000/20000 [==============================] - 590s - loss: 0.0759 - categorical_accuracy: 0.9731   \n",
      "Epoch 14/20\n",
      "20000/20000 [==============================] - 592s - loss: 0.0733 - categorical_accuracy: 0.9739   \n",
      "Epoch 15/20\n",
      "20000/20000 [==============================] - 589s - loss: 0.0710 - categorical_accuracy: 0.9747   \n",
      "Epoch 16/20\n",
      "20000/20000 [==============================] - 592s - loss: 0.0692 - categorical_accuracy: 0.9754   \n",
      "Epoch 17/20\n",
      "20000/20000 [==============================] - 590s - loss: 0.0676 - categorical_accuracy: 0.9759   \n",
      "Epoch 18/20\n",
      "20000/20000 [==============================] - 590s - loss: 0.0661 - categorical_accuracy: 0.9763   \n",
      "Epoch 19/20\n",
      "20000/20000 [==============================] - 590s - loss: 0.0649 - categorical_accuracy: 0.9767   \n",
      "Epoch 20/20\n",
      "20000/20000 [==============================] - 590s - loss: 0.0637 - categorical_accuracy: 0.9773   \n"
     ]
    },
    {
     "data": {
      "text/plain": [
       "<keras.callbacks.History at 0x7fda803f5400>"
      ]
     },
     "execution_count": 47,
     "metadata": {},
     "output_type": "execute_result"
    }
   ],
   "source": [
    "model2.fit([X_train, X_train], Y_train, batch_size=80, nb_epoch=20)"
   ]
  }
 ],
 "metadata": {
  "anaconda-cloud": {},
  "kernelspec": {
   "display_name": "Python [conda root]",
   "language": "python",
   "name": "conda-root-py"
  },
  "language_info": {
   "codemirror_mode": {
    "name": "ipython",
    "version": 3
   },
   "file_extension": ".py",
   "mimetype": "text/x-python",
   "name": "python",
   "nbconvert_exporter": "python",
   "pygments_lexer": "ipython3",
   "version": "3.5.2"
  }
 },
 "nbformat": 4,
 "nbformat_minor": 1
}

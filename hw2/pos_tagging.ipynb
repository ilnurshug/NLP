{
 "cells": [
  {
   "cell_type": "code",
   "execution_count": 1,
   "metadata": {
    "collapsed": false
   },
   "outputs": [
    {
     "name": "stdout",
     "output_type": "stream",
     "text": [
      "1,(Алим`ентов|S) (он`а|S-PRO) (никогд`а|ADV-PRO) (от|PR) (нег`о|S-PRO) (не|PART) (получ`ала|V) (и|CONJ) (т`олько|PART) (сл`ышала|V) (от|PR) (`общих|A) (знак`омых|S) (,|PUNCT) (что|CONJ) (он|S-PRO) (жив|A) (.|PUNCT)\n",
      "\n"
     ]
    }
   ],
   "source": [
    "import csv\n",
    "\n",
    "\n",
    "content = []\n",
    "with open('data-train.csv') as f:\n",
    "    content = f.readlines()\n",
    "\n",
    "print(content[0])"
   ]
  },
  {
   "cell_type": "code",
   "execution_count": 2,
   "metadata": {
    "collapsed": false
   },
   "outputs": [],
   "source": [
    "class_cnt = 17\n",
    "words_freq = {}\n",
    "\n",
    "tag_map = {\n",
    "    'S': 1,\n",
    "    'A': 2,\n",
    "    'NUM': 3,\n",
    "    'A-NUM': 4,\n",
    "    'V': 5,\n",
    "    'ADV': 6,\n",
    "    'PRAEDIC': 7,\n",
    "    'PARENTH': 8,\n",
    "    'S-PRO': 9,\n",
    "    'A-PRO': 10,\n",
    "    'ADV-PRO': 11,\n",
    "    'PRAEDIC-PRO': 12,\n",
    "    'PR': 13,\n",
    "    'CONJ': 14,\n",
    "    'PART': 15,\n",
    "    'INTJ': 16,\n",
    "    'PUNCT': 17\n",
    "    }\n",
    "\n",
    "def parse_pair(pair):\n",
    "    word = \"\"\n",
    "    tag = \"\"\n",
    "    i = len(pair) - 2\n",
    "    while pair[i] != '|':\n",
    "        tag += pair[i]\n",
    "        i -= 1\n",
    "    i -= 1\n",
    "    while i > 0:\n",
    "        word += pair[i]\n",
    "        i -= 1\n",
    "    return word[::-1], tag[::-1]\n",
    "\n",
    "def parse(line):\n",
    "    l_id = \"\"\n",
    "    words = []\n",
    "    tags = []\n",
    "    \n",
    "    i = 0\n",
    "    while i < len(line):\n",
    "        if line[i] == ',':\n",
    "            break\n",
    "        l_id += line[i]\n",
    "        i += 1\n",
    "    \n",
    "    l_id = int(l_id)\n",
    "    \n",
    "    pairs = line[i + 1:].split()\n",
    "    for pair in pairs:\n",
    "        if pair[0] == '(' and pair[-1] == ')':\n",
    "            w,t = parse_pair(pair)\n",
    "            \n",
    "            f = words_freq.get(w, 0)\n",
    "            words_freq[w] = f + 1\n",
    "            \n",
    "            words.append(w)\n",
    "            tags.append(t)\n",
    "    return l_id, words, tags\n",
    "    "
   ]
  },
  {
   "cell_type": "code",
   "execution_count": 3,
   "metadata": {
    "collapsed": false
   },
   "outputs": [],
   "source": [
    "ids = []\n",
    "words = []\n",
    "tags = []\n",
    "\n",
    "for line in content:\n",
    "    l_id, ws, ts = parse(line)\n",
    "    if len(ws) > 0:\n",
    "        ids.append(l_id)\n",
    "        words.append(ws) \n",
    "        tags.append(ts)"
   ]
  },
  {
   "cell_type": "code",
   "execution_count": 4,
   "metadata": {
    "collapsed": false
   },
   "outputs": [],
   "source": [
    "train_data = []\n",
    "\n",
    "for i in range(len(ids)):\n",
    "    p = []\n",
    "    for j in range(len(words[i])):\n",
    "        p.append((words[i][j], tags[i][j]))\n",
    "    train_data.append(p)"
   ]
  },
  {
   "cell_type": "code",
   "execution_count": 5,
   "metadata": {
    "collapsed": false
   },
   "outputs": [
    {
     "name": "stdout",
     "output_type": "stream",
     "text": [
      "[('Алим`ентов', 'S'), ('он`а', 'S-PRO'), ('никогд`а', 'ADV-PRO'), ('от', 'PR'), ('нег`о', 'S-PRO'), ('не', 'PART'), ('получ`ала', 'V'), ('и', 'CONJ'), ('т`олько', 'PART'), ('сл`ышала', 'V'), ('от', 'PR'), ('`общих', 'A'), ('знак`омых', 'S'), (',', 'PUNCT'), ('что', 'CONJ'), ('он', 'S-PRO'), ('жив', 'A'), ('.', 'PUNCT')]\n"
     ]
    }
   ],
   "source": [
    "print(train_data[0])"
   ]
  },
  {
   "cell_type": "code",
   "execution_count": 6,
   "metadata": {
    "collapsed": true
   },
   "outputs": [],
   "source": [
    "import nltk\n",
    "from nltk.tag import hmm\n",
    "\n",
    "\n",
    "trainer = hmm.HiddenMarkovModelTrainer()\n",
    "tagger = trainer.train_supervised(train_data[:5000])"
   ]
  },
  {
   "cell_type": "code",
   "execution_count": 7,
   "metadata": {
    "collapsed": false
   },
   "outputs": [
    {
     "name": "stdout",
     "output_type": "stream",
     "text": [
      "[('Алим`ентов', 'S'), ('он`а', 'S-PRO'), ('никогд`а', 'ADV-PRO')]\n"
     ]
    }
   ],
   "source": [
    "print(tagger.tag(\"Алим`ентов он`а никогд`а\".split()))"
   ]
  },
  {
   "cell_type": "code",
   "execution_count": 8,
   "metadata": {
    "collapsed": false
   },
   "outputs": [
    {
     "name": "stdout",
     "output_type": "stream",
     "text": [
      "1,Благотвор`ительный баз`ар состо`ится в четвёртом отдел`ении п`осле `ужина .\n",
      "\n"
     ]
    }
   ],
   "source": [
    "test_content = []\n",
    "with open('data-test.csv') as f:\n",
    "    test_content = f.readlines()\n",
    "    \n",
    "    for line in test_content:\n",
    "        i = 0\n",
    "        while i < len(line):\n",
    "            if line[i] == ',':\n",
    "                break\n",
    "            i += 1\n",
    "        for w in line[i+1:].split():\n",
    "            f = words_freq.get(w, 0)\n",
    "            words_freq[w] = f + 1\n",
    "\n",
    "print(test_content[0])"
   ]
  },
  {
   "cell_type": "code",
   "execution_count": 9,
   "metadata": {
    "collapsed": false
   },
   "outputs": [],
   "source": [
    "import pycrfsuite\n",
    "from nltk.tag import CRFTagger\n",
    "\n",
    "\n",
    "ct = CRFTagger()\n",
    "ct.train(train_data, 'model.crf.tagger')"
   ]
  },
  {
   "cell_type": "code",
   "execution_count": 10,
   "metadata": {
    "collapsed": false
   },
   "outputs": [
    {
     "name": "stdout",
     "output_type": "stream",
     "text": [
      "[[('Алим`ентов', 'S'), ('он`а', 'S-PRO'), ('никогд`а', 'ADV-PRO')]]\n"
     ]
    }
   ],
   "source": [
    "print(ct.tag_sents([\"Алим`ентов он`а никогд`а\".split()]))"
   ]
  },
  {
   "cell_type": "code",
   "execution_count": 11,
   "metadata": {
    "collapsed": false
   },
   "outputs": [],
   "source": [
    "with open('output.csv', 'w') as out:\n",
    "    out.write('id,tags\\n')\n",
    "    for line in test_content:\n",
    "        i = 0\n",
    "        l_id = \"\"\n",
    "        while i < len(line):\n",
    "            if line[i] == ',':\n",
    "                break\n",
    "            l_id += line[i]\n",
    "            i += 1\n",
    "\n",
    "        out.write(l_id + ',')\n",
    "\n",
    "        pairs = ct.tag_sents([line[i + 1:].split()])[0]\n",
    "        out.write(' '.join([p[1] for p in pairs]))\n",
    "        out.write('\\n')"
   ]
  }
 ],
 "metadata": {
  "anaconda-cloud": {},
  "kernelspec": {
   "display_name": "Python [default]",
   "language": "python",
   "name": "python3"
  },
  "language_info": {
   "codemirror_mode": {
    "name": "ipython",
    "version": 3
   },
   "file_extension": ".py",
   "mimetype": "text/x-python",
   "name": "python",
   "nbconvert_exporter": "python",
   "pygments_lexer": "ipython3",
   "version": "3.5.2"
  }
 },
 "nbformat": 4,
 "nbformat_minor": 1
}

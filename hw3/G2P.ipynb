{
 "cells": [
  {
   "cell_type": "code",
   "execution_count": 1,
   "metadata": {
    "collapsed": true
   },
   "outputs": [],
   "source": [
    "import csv\n",
    "\n",
    "\n",
    "ids = []\n",
    "g = []\n",
    "p = []\n",
    "\n",
    "with open('train.csv', 'r') as csvfile:\n",
    "    reader = csv.reader(csvfile)\n",
    "    for row in reader:\n",
    "        ids.append(row[0])\n",
    "        \n",
    "        gs = []\n",
    "        for c in row[1].lower():\n",
    "            if c.isalpha() or c == \"'\":\n",
    "                gs.append(c)\n",
    "        \n",
    "        g.append(gs)\n",
    "        ph = row[2].split()\n",
    "        p.append(ph)\n",
    "        \n",
    "graphemes = g\n",
    "phonemes = p"
   ]
  },
  {
   "cell_type": "code",
   "execution_count": 2,
   "metadata": {
    "collapsed": true
   },
   "outputs": [],
   "source": [
    "align_data = []\n",
    "words = []\n",
    "\n",
    "p_cls = set([])\n",
    "g_cls = set([])\n",
    "\n",
    "p_cls_cnt = {}\n",
    "p_total_cnt = 0\n",
    "\n",
    "def word_from_align(a):\n",
    "    w = \"\"\n",
    "    for chunk in a:\n",
    "        if len(chunk) > 1:\n",
    "            w += chunk[0] + chunk[-1]\n",
    "        else:\n",
    "            w += chunk\n",
    "    return w\n",
    "\n",
    "with open('data.m-mAlign.2-2.delX.1-best.conYX.align') as f:\n",
    "    align_data = f.readlines()\n",
    "    for i in range(len(align_data)):\n",
    "        align_data[i] = align_data[i].split('\\t')\n",
    "        align_data[i][0] = align_data[i][0].split('|')\n",
    "        align_data[i][1] = align_data[i][1].split('|')\n",
    "        align_data[i][0].remove('')\n",
    "        align_data[i][1].remove('\\n')\n",
    "        words.append(word_from_align(align_data[i][0]))\n",
    "        \n",
    "        for c in align_data[i][0]:\n",
    "            g_cls.add(c)\n",
    "        \n",
    "        for c in align_data[i][1]:\n",
    "            p_cls.add(c)"
   ]
  },
  {
   "cell_type": "code",
   "execution_count": 3,
   "metadata": {
    "collapsed": false
   },
   "outputs": [
    {
     "name": "stdout",
     "output_type": "stream",
     "text": [
      "[['k:n', 'o', 'x', 'v', 'i', 'l:l', 'e'], ['N', 'AA', 'K:S', 'V', 'IH', 'L', '_']] knoxville\n",
      "181 315\n"
     ]
    }
   ],
   "source": [
    "print (align_data[0], words[0])\n",
    "\n",
    "p_cls_id = {}\n",
    "g_cls_id = {}\n",
    "\n",
    "p_cls_id['~'] = 0\n",
    "i = 1\n",
    "for pc in p_cls:\n",
    "    p_cls_id[pc] = i\n",
    "    i += 1\n",
    "    \n",
    "g_cls_id['~'] = 0\n",
    "i = 1\n",
    "for gc in g_cls:\n",
    "    g_cls_id[gc] = i\n",
    "    i += 1\n",
    "    \n",
    "print (len(p_cls_id), len(g_cls_id))"
   ]
  },
  {
   "cell_type": "code",
   "execution_count": 4,
   "metadata": {
    "collapsed": true
   },
   "outputs": [],
   "source": [
    "X = []\n",
    "Y = []\n",
    "\n",
    "def left_ctx(a, i, ctx_len=2):\n",
    "    ctx = []\n",
    "    j = i-1\n",
    "    while j >= 0 and len(ctx) < ctx_len:\n",
    "        if len(a[j]) > 1:\n",
    "            if len(ctx) < ctx_len:\n",
    "                ctx.append(a[j][-1])\n",
    "            if len(ctx) < ctx_len:\n",
    "                ctx.append(a[j][0])\n",
    "        else:\n",
    "            ctx.append(a[j])\n",
    "        j -= 1\n",
    "    \n",
    "    while len(ctx) < ctx_len:\n",
    "        ctx.append('~')\n",
    "    \n",
    "    return ctx[::-1]\n",
    "\n",
    "def right_ctx(a, i, ctx_len=2):\n",
    "    ctx = []\n",
    "    j = i + 1\n",
    "    while j < len(a) and len(ctx) < ctx_len:\n",
    "        if len(a[j]) > 1:\n",
    "            if len(ctx) < ctx_len:\n",
    "                ctx.append(a[j][0])\n",
    "            if len(ctx) < ctx_len:\n",
    "                ctx.append(a[j][-1])\n",
    "        else:\n",
    "            ctx.append(a[j])\n",
    "        j += 1\n",
    "        \n",
    "    while len(ctx) < ctx_len:\n",
    "        ctx.append('~')\n",
    "    \n",
    "    return ctx\n",
    "\n",
    "def get_xy(a, w):\n",
    "    x = []\n",
    "    y = []\n",
    "    ri = 0\n",
    "    for i in range(len(a)):\n",
    "        if i == len(a) - 1 and len(a[i]) == 1:\n",
    "            break\n",
    "        l = []\n",
    "        if len(a[i]) > 1:\n",
    "            l = left_ctx(a, i) + [a[i][0], a[i][-1]] + right_ctx(a, i)\n",
    "            \n",
    "            ll = [c for c in l[1::]]\n",
    "            if ri+4 < len(w):\n",
    "                ll.append(w[ri+4])\n",
    "            else:\n",
    "                ll.append('~')\n",
    "            ll = [ord(c) for c in ll]\n",
    "            \n",
    "            l = [ord(c) for c in l]\n",
    "            x.append( l )\n",
    "            y.append(1)\n",
    "            x.append( ll )\n",
    "            y.append(0)\n",
    "        else:\n",
    "            if len(a[i+1]) == 1:\n",
    "                l = left_ctx(a, i) + [a[i], a[i+1]] + right_ctx(a, i+1)\n",
    "            else:\n",
    "                l = left_ctx(a, i) + [a[i], a[i+1][0], a[i+1][-1]] + right_ctx(a, i+1, 1)\n",
    "            y.append(0)\n",
    "            l = [ord(c) for c in l]\n",
    "            x.append( l )\n",
    "            \n",
    "        ri += min(len(a[i]), 2)\n",
    "        \n",
    "    return (x, y)\n",
    "\n",
    "for k in range(len(align_data)):\n",
    "    xa, ya = get_xy(align_data[k][0], words[k])\n",
    "    for x,y in zip(xa, ya):\n",
    "        X.append(x)\n",
    "        Y.append(y)"
   ]
  },
  {
   "cell_type": "code",
   "execution_count": 5,
   "metadata": {
    "collapsed": true
   },
   "outputs": [],
   "source": [
    "from sklearn.ensemble import RandomForestClassifier\n",
    "\n",
    "\n",
    "clf = RandomForestClassifier(n_estimators=10)\n",
    "clf = clf.fit(X, Y)"
   ]
  },
  {
   "cell_type": "code",
   "execution_count": 6,
   "metadata": {
    "collapsed": true
   },
   "outputs": [],
   "source": [
    "def word_to_window(w, focus, l_ctx_len=2, r_ctx_len=2):\n",
    "    lctx = []\n",
    "    rctx = []\n",
    "    j = focus - 1\n",
    "    while j >= 0 and len(lctx) < l_ctx_len:\n",
    "        lctx.append(w[j])\n",
    "        j -= 1\n",
    "    while len(lctx) < l_ctx_len:\n",
    "        lctx.append('~')\n",
    "    j = focus + 2\n",
    "    while j < len(w) and len(rctx) < r_ctx_len:\n",
    "        rctx.append(w[j])\n",
    "        j += 1\n",
    "    while len(rctx) < r_ctx_len:\n",
    "        rctx.append('~')\n",
    "    l = lctx[::-1] + [w[focus], w[focus+1]] + rctx\n",
    "    l = [ord(c) for c in l]\n",
    "    return l\n",
    "\n",
    "def letter_chunking(w):\n",
    "    f = []\n",
    "    for focus in range(len(w)-1):\n",
    "        window = word_to_window(w, focus)\n",
    "        f.append(clf.predict([window]))\n",
    "    f.append(0)\n",
    "    for i in range(1, len(w)):\n",
    "        if f[i] == 1 and f[i-1] == 1:\n",
    "            f[i] = 0\n",
    "    chunks = []\n",
    "    i = 0\n",
    "    while i < len(w):\n",
    "        if f[i] == 1:\n",
    "            chunks.append([w[i], w[i+1]])\n",
    "            i += 2\n",
    "        else:\n",
    "            chunks.append([w[i]])\n",
    "            i += 1\n",
    "    return chunks"
   ]
  },
  {
   "cell_type": "code",
   "execution_count": 7,
   "metadata": {
    "collapsed": true
   },
   "outputs": [],
   "source": [
    "XX = []\n",
    "YY = []\n",
    "\n",
    "def get_xy2(g, p):\n",
    "    x = []\n",
    "    y = []\n",
    "    for i in range(len(g)):\n",
    "        l_ctx = []\n",
    "        r_ctx = []\n",
    "        j = i - 1\n",
    "        while j >= 0 and len(l_ctx) < 4:\n",
    "            l_ctx.append(g_cls_id[g[j]])\n",
    "            l_ctx.append(p_cls_id[p[j]])\n",
    "        while len(l_ctx) < 4:\n",
    "            l_ctx.append(g_cls_id['~'])\n",
    "            l_ctx.append(p_cls_id['_'])\n",
    "            \n",
    "        if i < len(g) - 1:\n",
    "            r_ctx.append(g_cls_id[g[i+1]])\n",
    "        else:\n",
    "            r_ctx.append(g_cls_id['~'])\n",
    "            \n",
    "        window = l_ctx[::-1] + [g_cls_id[g[i]]] + r_ctx\n",
    "        x.append(window)\n",
    "        y.append(p_cls_id[p[i]])\n",
    "        \n",
    "    return (x, y)\n",
    "\n",
    "for k in range(len(align_data)):\n",
    "    xs, ys = get_xy2(align_data[k][0], align_data[k][1])\n",
    "    for x, y in zip(xs, ys):\n",
    "        XX.append(x)\n",
    "        YY.append(y)"
   ]
  },
  {
   "cell_type": "code",
   "execution_count": 8,
   "metadata": {
    "collapsed": true
   },
   "outputs": [],
   "source": [
    "clf2 = RandomForestClassifier(n_estimators=10)\n",
    "clf2 = clf2.fit(XX, YY)"
   ]
  },
  {
   "cell_type": "code",
   "execution_count": 9,
   "metadata": {
    "collapsed": false
   },
   "outputs": [
    {
     "name": "stdout",
     "output_type": "stream",
     "text": [
      "110 k\n",
      "['N', 'AA', 'K', 'S', 'V', 'IH', 'L'] ['k', 'n', 'o', 'x', 'v', 'i', 'l', 'l', 'e']\n"
     ]
    }
   ],
   "source": [
    "g_from_cls = {}\n",
    "p_from_cls = {}\n",
    "\n",
    "for gr in g_cls_id:\n",
    "    g_from_cls[g_cls_id[gr]] = gr\n",
    "    \n",
    "for ph in p_cls_id:\n",
    "    p_from_cls[p_cls_id[ph]] = ph\n",
    "    \n",
    "print (g_cls_id['k'], g_from_cls[g_cls_id['k']])\n",
    "print (phonemes[1], graphemes[1])"
   ]
  },
  {
   "cell_type": "code",
   "execution_count": 10,
   "metadata": {
    "collapsed": true
   },
   "outputs": [],
   "source": [
    "def g2p(g):\n",
    "    ch = letter_chunking(g.lower())\n",
    "    g = []\n",
    "    for c in ch:\n",
    "        if len(c) > 1:\n",
    "            g.append(c[0] + ':' + c[1])\n",
    "        else:\n",
    "            g.append(c[0])\n",
    "    \n",
    "    p = []\n",
    "    for i in range(len(g)):\n",
    "        l_ctx = []\n",
    "        r_ctx = []\n",
    "        j = i - 1\n",
    "        while j >= 0 and len(l_ctx) < 4:\n",
    "            l_ctx.append(g_cls_id.get(g[j], 0))\n",
    "            l_ctx.append(p_cls_id[p[j]])\n",
    "        while len(l_ctx) < 4:\n",
    "            l_ctx.append(g_cls_id['~'])\n",
    "            l_ctx.append(p_cls_id['_'])\n",
    "            \n",
    "        if i < len(g) - 1:\n",
    "            r_ctx.append(g_cls_id.get(g[i+1], 0))\n",
    "        else:\n",
    "            r_ctx.append(g_cls_id['~'])\n",
    "            \n",
    "        window = l_ctx[::-1] + [g_cls_id.get(g[i], 0)] + r_ctx\n",
    "        pp = p_from_cls[clf2.predict([window])[0]]\n",
    "        p.append(pp)\n",
    "        \n",
    "    return p  "
   ]
  },
  {
   "cell_type": "code",
   "execution_count": 11,
   "metadata": {
    "collapsed": true
   },
   "outputs": [],
   "source": [
    "p_to_ch = {}\n",
    "\n",
    "with open('phones.txt') as p_dct:\n",
    "    lines = p_dct.readlines()\n",
    "    for l in lines:\n",
    "        ph, ch = l.split()\n",
    "        p_to_ch[ph] = ch"
   ]
  },
  {
   "cell_type": "code",
   "execution_count": 12,
   "metadata": {
    "collapsed": true
   },
   "outputs": [],
   "source": [
    "def transform(ps):\n",
    "    s = \"\"\n",
    "    for ph in ps:\n",
    "        if ':' in ph:\n",
    "            a,b = ph.split(':')\n",
    "            s += p_to_ch[a] + p_to_ch[b]\n",
    "        elif ph == '_':\n",
    "            continue\n",
    "        else:\n",
    "            s += p_to_ch[ph]\n",
    "            \n",
    "    return s"
   ]
  },
  {
   "cell_type": "code",
   "execution_count": 13,
   "metadata": {
    "collapsed": false
   },
   "outputs": [
    {
     "name": "stdout",
     "output_type": "stream",
     "text": [
      "watCIqu\n"
     ]
    }
   ],
   "source": [
    "print(transform(g2p('knoxville')))"
   ]
  },
  {
   "cell_type": "code",
   "execution_count": 14,
   "metadata": {
    "collapsed": true
   },
   "outputs": [],
   "source": [
    "def test_g2p_model(g2p_model):\n",
    "    test_words = []\n",
    "    test_ids = []\n",
    "\n",
    "    with open('test.csv', 'r') as csvfile:\n",
    "        reader = csv.reader(csvfile)\n",
    "        for row in reader:\n",
    "            test_ids.append(row[0])\n",
    "            tw = \"\"\n",
    "            for c in row[1].lower():\n",
    "                if c.isalpha() or c == \"'\":\n",
    "                    tw += c\n",
    "            test_words.append(tw)\n",
    "            \n",
    "    with open('out.csv', 'w+') as out:\n",
    "        out.write('Id,Transcription\\n')\n",
    "        for i in range(1, len(test_ids)):\n",
    "            try:\n",
    "                out.write(test_ids[i] + ',' + transform(g2p_model(test_words[i])) + '\\n')\n",
    "            except KeyError:\n",
    "                print (test_words[i])"
   ]
  },
  {
   "cell_type": "code",
   "execution_count": 15,
   "metadata": {
    "collapsed": true
   },
   "outputs": [],
   "source": [
    "test_g2p_model(g2p)"
   ]
  }
 ],
 "metadata": {
  "anaconda-cloud": {},
  "kernelspec": {
   "display_name": "Python [conda root]",
   "language": "python",
   "name": "conda-root-py"
  },
  "language_info": {
   "codemirror_mode": {
    "name": "ipython",
    "version": 3
   },
   "file_extension": ".py",
   "mimetype": "text/x-python",
   "name": "python",
   "nbconvert_exporter": "python",
   "pygments_lexer": "ipython3",
   "version": "3.5.2"
  }
 },
 "nbformat": 4,
 "nbformat_minor": 1
}
